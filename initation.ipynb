{
 "cells": [
  {
   "cell_type": "markdown",
   "metadata": {},
   "source": [
    "# Projet Master 2 ATT "
   ]
  },
  {
   "cell_type": "markdown",
   "metadata": {},
   "source": [
    "### Pré-requis informatique: \n",
    "1. OS linux\n",
    "2. Anaconda \n",
    "3. Installer les environnement conda \n",
    "     *  Iota² (partie classification)\n",
    "     *  MODSPA (partie modélisation)\n",
    "    \n",
    "    "
   ]
  },
  {
   "cell_type": "markdown",
   "metadata": {},
   "source": [
    "## Création d'un environnement conda \n",
    "1. Pour l'environnement Iota², utiliser le [lien_Iota²]  \n",
    "2. Pour l'environnement MODSPA, dans le terminal, tapez les commandes suivantes:\n",
    "    *  \"git clone  http://tully.ups-tlse.fr/mireille/ModSpa.git\"\n",
    "    *  \"conda env create -f env.yml\"\n",
    "[lien_Iota²]:https://iota2.readthedocs.io/en/latest/HowToGetIOTA2.html\n"
   ]
  },
  {
   "cell_type": "markdown",
   "metadata": {},
   "source": [
    "### Activer un environnement conda \n",
    "Tapez la commande : conda activate nom_de_votre_environnement\" "
   ]
  }
 ],
 "metadata": {
  "kernelspec": {
   "display_name": "Python 3",
   "language": "python",
   "name": "python3"
  },
  "language_info": {
   "codemirror_mode": {
    "name": "ipython",
    "version": 3
   },
   "file_extension": ".py",
   "mimetype": "text/x-python",
   "name": "python",
   "nbconvert_exporter": "python",
   "pygments_lexer": "ipython3",
   "version": "3.7.3"
  }
 },
 "nbformat": 4,
 "nbformat_minor": 4
}
